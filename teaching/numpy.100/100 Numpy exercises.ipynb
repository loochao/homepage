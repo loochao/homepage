{
 "metadata": {
  "name": "100 Numpy exercises"
 },
 "nbformat": 3,
 "nbformat_minor": 0,
 "worksheets": [
  {
   "cells": [
    {
     "cell_type": "markdown",
     "metadata": {},
     "source": [
      "# 100 Numpy Exercises"
     ]
    },
    {
     "cell_type": "markdown",
     "metadata": {},
     "source": [
      "***\n",
      "\n",
      "## Neophyte"
     ]
    },
    {
     "cell_type": "markdown",
     "metadata": {},
     "source": [
      "##### \u2794 Import the numpy package under the name np"
     ]
    },
    {
     "cell_type": "code",
     "collapsed": false,
     "input": [
      "import numpy as np"
     ],
     "language": "python",
     "metadata": {},
     "outputs": []
    },
    {
     "cell_type": "markdown",
     "metadata": {},
     "source": [
      "##### \u2794 Print the numpy version and show the config"
     ]
    },
    {
     "cell_type": "code",
     "collapsed": false,
     "input": [
      "print(\"Numpy version %s\\n\" % np.__version__)\n",
      "np.__config__.show()"
     ],
     "language": "python",
     "metadata": {},
     "outputs": []
    },
    {
     "cell_type": "markdown",
     "metadata": {},
     "source": [
      "##### \u2794 Create a null vector of size 10"
     ]
    },
    {
     "cell_type": "code",
     "collapsed": false,
     "input": [
      "Z = np.zeros(10)\n",
      "print Z"
     ],
     "language": "python",
     "metadata": {},
     "outputs": []
    },
    {
     "cell_type": "markdown",
     "metadata": {},
     "source": [
      "##### \u2794 Create a null vector of size 10 but the fifth value which is 1"
     ]
    },
    {
     "cell_type": "code",
     "collapsed": false,
     "input": [
      "Z = np.zeros(10)\n",
      "Z[4] = 1\n",
      "print Z"
     ],
     "language": "python",
     "metadata": {},
     "outputs": []
    },
    {
     "cell_type": "markdown",
     "metadata": {},
     "source": [
      "##### \u2794 Create a vector with values ranging from 10 to 99"
     ]
    },
    {
     "cell_type": "code",
     "collapsed": false,
     "input": [
      "Z = 10+np.arange(90)\n",
      "print(Z)"
     ],
     "language": "python",
     "metadata": {},
     "outputs": []
    },
    {
     "cell_type": "markdown",
     "metadata": {},
     "source": [
      "##### \u2794 Create a 3x3 matrix with values ranging from 0 to 8"
     ]
    },
    {
     "cell_type": "code",
     "collapsed": false,
     "input": [
      "Z = np.arange(9).reshape(3,3)\n",
      "print(Z)"
     ],
     "language": "python",
     "metadata": {},
     "outputs": []
    },
    {
     "cell_type": "markdown",
     "metadata": {},
     "source": [
      "##### \u2794 Find indices of non-zero elements from [1,2,0,0,4,0]"
     ]
    },
    {
     "cell_type": "code",
     "collapsed": false,
     "input": [
      "nz = np.nonzero([1,2,0,0,4,0])\n",
      "print (nz)"
     ],
     "language": "python",
     "metadata": {},
     "outputs": []
    },
    {
     "cell_type": "markdown",
     "metadata": {},
     "source": [
      "##### \u2794 Declare a 3x3 identity matrix"
     ]
    },
    {
     "cell_type": "code",
     "collapsed": false,
     "input": [
      "Z = np.eye(3)\n",
      "print(Z)"
     ],
     "language": "python",
     "metadata": {},
     "outputs": []
    },
    {
     "cell_type": "markdown",
     "metadata": {},
     "source": [
      "##### \u2794 Declare a 5x5 matrix with values 1,2,3,4 just below the diagonal"
     ]
    },
    {
     "cell_type": "code",
     "collapsed": false,
     "input": [
      "Z = np.diag(1+np.arange(4),k=-1)\n",
      "print (Z)"
     ],
     "language": "python",
     "metadata": {},
     "outputs": []
    },
    {
     "cell_type": "markdown",
     "metadata": {},
     "source": [
      "##### \u2794 Declare a 3x3x3 array with random values"
     ]
    },
    {
     "cell_type": "code",
     "collapsed": false,
     "input": [
      "Z = np.random.random((3,3,3))\n",
      "print (Z)"
     ],
     "language": "python",
     "metadata": {},
     "outputs": []
    },
    {
     "cell_type": "markdown",
     "metadata": {},
     "source": [
      "***\n",
      "\n",
      "## Novice"
     ]
    },
    {
     "cell_type": "markdown",
     "metadata": {},
     "source": [
      "##### \u2794 Declare a 8x8 matrix and fill it with a checkerboard pattern"
     ]
    },
    {
     "cell_type": "code",
     "collapsed": false,
     "input": [
      "Z = np.zeros((8,8),dtype=int)\n",
      "Z[1::2,::2] = 1\n",
      "Z[::2,1::2] = 1\n",
      "print (Z)"
     ],
     "language": "python",
     "metadata": {},
     "outputs": []
    },
    {
     "cell_type": "markdown",
     "metadata": {},
     "source": [
      "##### \u2794 Declare a 10x10 array with random values and find the minimum and maximum values"
     ]
    },
    {
     "cell_type": "code",
     "collapsed": false,
     "input": [
      "Z = np.random.random((10,10))\n",
      "Zmin, Zmax = Z.min(), Z.max()\n",
      "print (Zmin, Zmax)"
     ],
     "language": "python",
     "metadata": {},
     "outputs": []
    },
    {
     "cell_type": "markdown",
     "metadata": {},
     "source": [
      "##### \u2794 Create a checkerboard 8x8 matrix using the tile function"
     ]
    },
    {
     "cell_type": "code",
     "collapsed": false,
     "input": [
      "Z = np.tile( np.array([[0,1],[1,0]]), (4,4))\n",
      "print (Z)"
     ],
     "language": "python",
     "metadata": {},
     "outputs": []
    },
    {
     "cell_type": "markdown",
     "metadata": {},
     "source": [
      "##### \u2794 Normalize a 5x5 random matrix (between 0 and 1)"
     ]
    },
    {
     "cell_type": "code",
     "collapsed": false,
     "input": [
      "Z = np.random.random((5,5))\n",
      "Zmax,Zmin = Z.max(), Z.min()\n",
      "Z = (Z - Zmin)/(Zmax - Zmin)\n",
      "print (Z)"
     ],
     "language": "python",
     "metadata": {},
     "outputs": []
    },
    {
     "cell_type": "markdown",
     "metadata": {},
     "source": [
      "##### \u2794 Multiply a 5x3 matrix by a 3x2 matrix (real matrix product)"
     ]
    },
    {
     "cell_type": "code",
     "collapsed": false,
     "input": [
      "Z = np.dot(np.ones((5,3)), np.ones((3,2)))\n",
      "print (Z)"
     ],
     "language": "python",
     "metadata": {},
     "outputs": []
    },
    {
     "cell_type": "markdown",
     "metadata": {},
     "source": [
      "##### \u2794 Create a 10x10 matrix with row values ranging from 0 to 9"
     ]
    },
    {
     "cell_type": "code",
     "collapsed": false,
     "input": [
      "Z = np.zeros((10,10))\n",
      "Z += np.arange(10)\n",
      "print (Z)"
     ],
     "language": "python",
     "metadata": {},
     "outputs": []
    },
    {
     "cell_type": "markdown",
     "metadata": {},
     "source": [
      "##### \u2794 Create a vector of size 10 with values ranging from 0 to 1, both excluded"
     ]
    },
    {
     "cell_type": "code",
     "collapsed": false,
     "input": [
      "Z = np.linspace(0,1,12,endpoint=True)[1:-1]\n",
      "print (Z)"
     ],
     "language": "python",
     "metadata": {},
     "outputs": []
    },
    {
     "cell_type": "markdown",
     "metadata": {},
     "source": [
      "##### \u2794 Create a random vector of size 100 and sort it"
     ]
    },
    {
     "cell_type": "code",
     "collapsed": false,
     "input": [
      "Z = np.random.random(100)\n",
      "Z.sort()\n",
      "print (Z)"
     ],
     "language": "python",
     "metadata": {},
     "outputs": []
    },
    {
     "cell_type": "markdown",
     "metadata": {},
     "source": [
      "##### \u2794 Consider two random matrices A anb B, check if they are equal"
     ]
    },
    {
     "cell_type": "code",
     "collapsed": false,
     "input": [
      "A = np.random.randint(0,2,(2,2))\n",
      "B = np.random.randint(0,2,(2,2))\n",
      "equal = np.allclose(A,B)\n",
      "print (equal)"
     ],
     "language": "python",
     "metadata": {},
     "outputs": []
    },
    {
     "cell_type": "markdown",
     "metadata": {},
     "source": [
      "##### \u2794 Create a random vector of size 1000 and find the mean value"
     ]
    },
    {
     "cell_type": "code",
     "collapsed": false,
     "input": [
      "Z = np.random.random(1000)\n",
      "m = Z.mean()\n",
      "print (m)"
     ],
     "language": "python",
     "metadata": {},
     "outputs": []
    }
   ],
   "metadata": {}
  }
 ]
}